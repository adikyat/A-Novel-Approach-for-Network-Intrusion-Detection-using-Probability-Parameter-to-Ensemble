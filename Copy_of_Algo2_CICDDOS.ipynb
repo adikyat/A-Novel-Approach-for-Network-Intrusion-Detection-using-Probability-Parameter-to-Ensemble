{
  "nbformat": 4,
  "nbformat_minor": 0,
  "metadata": {
    "kernelspec": {
      "name": "python3",
      "display_name": "Python 3"
    },
    "colab": {
      "name": "Copy of Algo2-CICDDOS.ipynb",
      "provenance": [],
      "collapsed_sections": []
    },
    "accelerator": "TPU"
  },
  "cells": [
    {
      "cell_type": "code",
      "metadata": {
        "id": "CUNpuOzu1PJX",
        "colab_type": "code",
        "outputId": "a06e4d9c-7d4b-42e1-bbaf-500f3f5fc03a",
        "colab": {
          "base_uri": "https://localhost:8080/",
          "height": 80
        }
      },
      "source": [
        "from __future__ import print_function\n",
        "from sklearn.model_selection import train_test_split\n",
        "import pandas as pd\n",
        "import numpy as np\n",
        "np.random.seed(1337)  # for reproducibility\n",
        "from keras.preprocessing import sequence\n",
        "from keras.utils import np_utils\n",
        "from keras.models import Sequential\n",
        "from keras.layers import Dense, Dropout, Activation, Embedding\n",
        "from keras.layers.normalization import BatchNormalization\n",
        "from keras.layers import Input, Dense\n",
        "from keras.layers import Convolution1D,MaxPooling1D, Flatten\n",
        "from keras.layers import Convolution1D, Dense, Dropout, Flatten, MaxPooling1D\n",
        "from keras.models import Model\n",
        "from keras.utils.np_utils import to_categorical\n",
        "from sklearn.metrics import (precision_score, recall_score,f1_score, accuracy_score,mean_squared_error,mean_absolute_error)\n",
        "from sklearn import metrics\n",
        "from sklearn.preprocessing import Normalizer\n",
        "import h5py\n",
        "from keras import callbacks\n",
        "from keras.callbacks import ModelCheckpoint, EarlyStopping, ReduceLROnPlateau, CSVLogger\n",
        "import tensorflow.keras.backend as K\n"
      ],
      "execution_count": 0,
      "outputs": [
        {
          "output_type": "stream",
          "text": [
            "Using TensorFlow backend.\n"
          ],
          "name": "stderr"
        },
        {
          "output_type": "display_data",
          "data": {
            "text/html": [
              "<p style=\"color: red;\">\n",
              "The default version of TensorFlow in Colab will soon switch to TensorFlow 2.x.<br>\n",
              "We recommend you <a href=\"https://www.tensorflow.org/guide/migrate\" target=\"_blank\">upgrade</a> now \n",
              "or ensure your notebook will continue to use TensorFlow 1.x via the <code>%tensorflow_version 1.x</code> magic:\n",
              "<a href=\"https://colab.research.google.com/notebooks/tensorflow_version.ipynb\" target=\"_blank\">more info</a>.</p>\n"
            ],
            "text/plain": [
              "<IPython.core.display.HTML object>"
            ]
          },
          "metadata": {
            "tags": []
          }
        }
      ]
    },
    {
      "cell_type": "code",
      "metadata": {
        "id": "MVL1wCWd1PKa",
        "colab_type": "code",
        "colab": {}
      },
      "source": [
        "data= pd.read_csv('drive/My Drive/BE FINAL/Friday-WorkingHours-Afternoon-DDos.pcap_ISCX.csv', index_col=None)"
      ],
      "execution_count": 0,
      "outputs": []
    },
    {
      "cell_type": "code",
      "metadata": {
        "id": "J6ux8WvyYyL2",
        "colab_type": "code",
        "outputId": "1ed0144c-7414-487c-d7b1-3d3a98cba2af",
        "colab": {
          "base_uri": "https://localhost:8080/",
          "height": 34
        }
      },
      "source": [
        "from google.colab import drive\n",
        "drive.mount('/content/drive')"
      ],
      "execution_count": 0,
      "outputs": [
        {
          "output_type": "stream",
          "text": [
            "Drive already mounted at /content/drive; to attempt to forcibly remount, call drive.mount(\"/content/drive\", force_remount=True).\n"
          ],
          "name": "stdout"
        }
      ]
    },
    {
      "cell_type": "code",
      "metadata": {
        "id": "arTftTEy1PK9",
        "colab_type": "code",
        "outputId": "7024b97e-e1df-4c04-acc0-e2571b50c598",
        "colab": {
          "base_uri": "https://localhost:8080/",
          "height": 34
        }
      },
      "source": [
        "from collections import Counter\n",
        "Counter(data[\" Label\"])"
      ],
      "execution_count": 0,
      "outputs": [
        {
          "output_type": "execute_result",
          "data": {
            "text/plain": [
              "Counter({'BENIGN': 97718, 'DDoS': 128027})"
            ]
          },
          "metadata": {
            "tags": []
          },
          "execution_count": 4
        }
      ]
    },
    {
      "cell_type": "code",
      "metadata": {
        "id": "pDCoRWMouAsO",
        "colab_type": "code",
        "colab": {}
      },
      "source": [
        "from sklearn.preprocessing import LabelEncoder\n",
        "encodings = dict()\n",
        "for c in data.columns:\n",
        "    #print df[c].dtype\n",
        "    if data[c].dtype == \"object\":\n",
        "        encodings[c] = LabelEncoder() #to give numerical label to char type labels.\n",
        "        encodings[c]\n",
        "        data[c] = encodings[c].fit_transform(data[c])\n",
        "        #testdata[c] = encodings[c].fit_transform(testdata[c])"
      ],
      "execution_count": 0,
      "outputs": []
    },
    {
      "cell_type": "code",
      "metadata": {
        "id": "qpUSxXHuAkmM",
        "colab_type": "code",
        "outputId": "6f1ce953-44f7-42e4-b110-fab8f37dc4fb",
        "colab": {
          "base_uri": "https://localhost:8080/",
          "height": 68
        }
      },
      "source": [
        "from sklearn.model_selection import train_test_split\n",
        "train,test = train_test_split(data, test_size=0.1, random_state=42)#random for splitting same data when run again.\n",
        "train,valdata = train_test_split(train, test_size=0.11, random_state=42)#random for splitting same data when run again.\n",
        "\n",
        "print(valdata.shape)\n",
        "print(train.shape)\n",
        "print(test.shape)\n",
        "#test.to_csv('drive/My Drive/BE FINAL/cic_final-code-results/cic-ddos-test_data.csv')"
      ],
      "execution_count": 0,
      "outputs": [
        {
          "output_type": "stream",
          "text": [
            "(22349, 79)\n",
            "(180821, 79)\n",
            "(22575, 79)\n"
          ],
          "name": "stdout"
        }
      ]
    },
    {
      "cell_type": "code",
      "metadata": {
        "id": "-6PT7mi98-XP",
        "colab_type": "code",
        "outputId": "a88dd56d-1ff8-44e0-e5ff-190c0b13a656",
        "colab": {
          "base_uri": "https://localhost:8080/",
          "height": 34
        }
      },
      "source": [
        "Counter(data[\" Label\"])"
      ],
      "execution_count": 0,
      "outputs": [
        {
          "output_type": "execute_result",
          "data": {
            "text/plain": [
              "Counter({0: 97718, 1: 128027})"
            ]
          },
          "metadata": {
            "tags": []
          },
          "execution_count": 7
        }
      ]
    },
    {
      "cell_type": "code",
      "metadata": {
        "id": "DSmFe4a01PMk",
        "colab_type": "code",
        "outputId": "7deb0172-5176-47a0-ca94-a5a6ee8ae07d",
        "colab": {
          "base_uri": "https://localhost:8080/",
          "height": 275
        }
      },
      "source": [
        "X = train.iloc[:,0:78]\n",
        "Y = train.iloc[:,78]\n",
        "C = test.iloc[:,78]\n",
        "T = test.iloc[:,0:78]\n",
        "vx = valdata.iloc[:,0:78]\n",
        "vy = valdata.iloc[:,78]\n",
        "vx.head()"
      ],
      "execution_count": 0,
      "outputs": [
        {
          "output_type": "execute_result",
          "data": {
            "text/html": [
              "<div>\n",
              "<style scoped>\n",
              "    .dataframe tbody tr th:only-of-type {\n",
              "        vertical-align: middle;\n",
              "    }\n",
              "\n",
              "    .dataframe tbody tr th {\n",
              "        vertical-align: top;\n",
              "    }\n",
              "\n",
              "    .dataframe thead th {\n",
              "        text-align: right;\n",
              "    }\n",
              "</style>\n",
              "<table border=\"1\" class=\"dataframe\">\n",
              "  <thead>\n",
              "    <tr style=\"text-align: right;\">\n",
              "      <th></th>\n",
              "      <th>Destination Port</th>\n",
              "      <th>Flow Duration</th>\n",
              "      <th>Total Fwd Packets</th>\n",
              "      <th>Total Backward Packets</th>\n",
              "      <th>Total Length of Fwd Packets</th>\n",
              "      <th>Total Length of Bwd Packets</th>\n",
              "      <th>Fwd Packet Length Max</th>\n",
              "      <th>Fwd Packet Length Min</th>\n",
              "      <th>Fwd Packet Length Mean</th>\n",
              "      <th>Fwd Packet Length Std</th>\n",
              "      <th>Bwd Packet Length Max</th>\n",
              "      <th>Bwd Packet Length Min</th>\n",
              "      <th>Bwd Packet Length Mean</th>\n",
              "      <th>Bwd Packet Length Std</th>\n",
              "      <th>Flow Bytes/s</th>\n",
              "      <th>Flow Packets/s</th>\n",
              "      <th>Flow IAT Mean</th>\n",
              "      <th>Flow IAT Std</th>\n",
              "      <th>Flow IAT Max</th>\n",
              "      <th>Flow IAT Min</th>\n",
              "      <th>Fwd IAT Total</th>\n",
              "      <th>Fwd IAT Mean</th>\n",
              "      <th>Fwd IAT Std</th>\n",
              "      <th>Fwd IAT Max</th>\n",
              "      <th>Fwd IAT Min</th>\n",
              "      <th>Bwd IAT Total</th>\n",
              "      <th>Bwd IAT Mean</th>\n",
              "      <th>Bwd IAT Std</th>\n",
              "      <th>Bwd IAT Max</th>\n",
              "      <th>Bwd IAT Min</th>\n",
              "      <th>Fwd PSH Flags</th>\n",
              "      <th>Bwd PSH Flags</th>\n",
              "      <th>Fwd URG Flags</th>\n",
              "      <th>Bwd URG Flags</th>\n",
              "      <th>Fwd Header Length</th>\n",
              "      <th>Bwd Header Length</th>\n",
              "      <th>Fwd Packets/s</th>\n",
              "      <th>Bwd Packets/s</th>\n",
              "      <th>Min Packet Length</th>\n",
              "      <th>Max Packet Length</th>\n",
              "      <th>Packet Length Mean</th>\n",
              "      <th>Packet Length Std</th>\n",
              "      <th>Packet Length Variance</th>\n",
              "      <th>FIN Flag Count</th>\n",
              "      <th>SYN Flag Count</th>\n",
              "      <th>RST Flag Count</th>\n",
              "      <th>PSH Flag Count</th>\n",
              "      <th>ACK Flag Count</th>\n",
              "      <th>URG Flag Count</th>\n",
              "      <th>CWE Flag Count</th>\n",
              "      <th>ECE Flag Count</th>\n",
              "      <th>Down/Up Ratio</th>\n",
              "      <th>Average Packet Size</th>\n",
              "      <th>Avg Fwd Segment Size</th>\n",
              "      <th>Avg Bwd Segment Size</th>\n",
              "      <th>Fwd Header Length.1</th>\n",
              "      <th>Fwd Avg Bytes/Bulk</th>\n",
              "      <th>Fwd Avg Packets/Bulk</th>\n",
              "      <th>Fwd Avg Bulk Rate</th>\n",
              "      <th>Bwd Avg Bytes/Bulk</th>\n",
              "      <th>Bwd Avg Packets/Bulk</th>\n",
              "      <th>Bwd Avg Bulk Rate</th>\n",
              "      <th>Subflow Fwd Packets</th>\n",
              "      <th>Subflow Fwd Bytes</th>\n",
              "      <th>Subflow Bwd Packets</th>\n",
              "      <th>Subflow Bwd Bytes</th>\n",
              "      <th>Init_Win_bytes_forward</th>\n",
              "      <th>Init_Win_bytes_backward</th>\n",
              "      <th>act_data_pkt_fwd</th>\n",
              "      <th>min_seg_size_forward</th>\n",
              "      <th>Active Mean</th>\n",
              "      <th>Active Std</th>\n",
              "      <th>Active Max</th>\n",
              "      <th>Active Min</th>\n",
              "      <th>Idle Mean</th>\n",
              "      <th>Idle Std</th>\n",
              "      <th>Idle Max</th>\n",
              "      <th>Idle Min</th>\n",
              "    </tr>\n",
              "  </thead>\n",
              "  <tbody>\n",
              "    <tr>\n",
              "      <th>40037</th>\n",
              "      <td>80</td>\n",
              "      <td>5076817</td>\n",
              "      <td>2</td>\n",
              "      <td>1</td>\n",
              "      <td>12</td>\n",
              "      <td>0</td>\n",
              "      <td>6</td>\n",
              "      <td>6</td>\n",
              "      <td>6.000000</td>\n",
              "      <td>0.000000</td>\n",
              "      <td>0</td>\n",
              "      <td>0</td>\n",
              "      <td>0.0</td>\n",
              "      <td>0.000000</td>\n",
              "      <td>2.363686</td>\n",
              "      <td>0.590921</td>\n",
              "      <td>2.538408e+06</td>\n",
              "      <td>3.517714e+06</td>\n",
              "      <td>5025808</td>\n",
              "      <td>51009</td>\n",
              "      <td>5076817</td>\n",
              "      <td>5.076817e+06</td>\n",
              "      <td>0.000000e+00</td>\n",
              "      <td>5076817</td>\n",
              "      <td>5076817</td>\n",
              "      <td>0</td>\n",
              "      <td>0.00</td>\n",
              "      <td>0.000000e+00</td>\n",
              "      <td>0</td>\n",
              "      <td>0</td>\n",
              "      <td>0</td>\n",
              "      <td>0</td>\n",
              "      <td>0</td>\n",
              "      <td>0</td>\n",
              "      <td>40</td>\n",
              "      <td>32</td>\n",
              "      <td>0.393948</td>\n",
              "      <td>0.196974</td>\n",
              "      <td>0</td>\n",
              "      <td>6</td>\n",
              "      <td>4.500000</td>\n",
              "      <td>3.000000</td>\n",
              "      <td>9.000000e+00</td>\n",
              "      <td>0</td>\n",
              "      <td>0</td>\n",
              "      <td>0</td>\n",
              "      <td>0</td>\n",
              "      <td>1</td>\n",
              "      <td>0</td>\n",
              "      <td>0</td>\n",
              "      <td>0</td>\n",
              "      <td>0</td>\n",
              "      <td>6.000000</td>\n",
              "      <td>6.000000</td>\n",
              "      <td>0.0</td>\n",
              "      <td>40</td>\n",
              "      <td>0</td>\n",
              "      <td>0</td>\n",
              "      <td>0</td>\n",
              "      <td>0</td>\n",
              "      <td>0</td>\n",
              "      <td>0</td>\n",
              "      <td>2</td>\n",
              "      <td>12</td>\n",
              "      <td>1</td>\n",
              "      <td>0</td>\n",
              "      <td>258</td>\n",
              "      <td>368</td>\n",
              "      <td>1</td>\n",
              "      <td>20</td>\n",
              "      <td>0.0</td>\n",
              "      <td>0.0</td>\n",
              "      <td>0</td>\n",
              "      <td>0</td>\n",
              "      <td>0.0</td>\n",
              "      <td>0.0</td>\n",
              "      <td>0</td>\n",
              "      <td>0</td>\n",
              "    </tr>\n",
              "    <tr>\n",
              "      <th>132474</th>\n",
              "      <td>80</td>\n",
              "      <td>90823143</td>\n",
              "      <td>8</td>\n",
              "      <td>5</td>\n",
              "      <td>56</td>\n",
              "      <td>11601</td>\n",
              "      <td>20</td>\n",
              "      <td>0</td>\n",
              "      <td>7.000000</td>\n",
              "      <td>5.656854</td>\n",
              "      <td>7300</td>\n",
              "      <td>0</td>\n",
              "      <td>2320.2</td>\n",
              "      <td>3022.508098</td>\n",
              "      <td>128.348344</td>\n",
              "      <td>0.143135</td>\n",
              "      <td>7.568595e+06</td>\n",
              "      <td>2.470000e+07</td>\n",
              "      <td>85800000</td>\n",
              "      <td>1</td>\n",
              "      <td>90800000</td>\n",
              "      <td>1.300000e+07</td>\n",
              "      <td>3.220000e+07</td>\n",
              "      <td>85800000</td>\n",
              "      <td>1</td>\n",
              "      <td>16647</td>\n",
              "      <td>4161.75</td>\n",
              "      <td>4.767794e+03</td>\n",
              "      <td>9492</td>\n",
              "      <td>83</td>\n",
              "      <td>0</td>\n",
              "      <td>0</td>\n",
              "      <td>0</td>\n",
              "      <td>0</td>\n",
              "      <td>172</td>\n",
              "      <td>112</td>\n",
              "      <td>0.088083</td>\n",
              "      <td>0.055052</td>\n",
              "      <td>0</td>\n",
              "      <td>7300</td>\n",
              "      <td>833.071429</td>\n",
              "      <td>2033.250541</td>\n",
              "      <td>4.134108e+06</td>\n",
              "      <td>0</td>\n",
              "      <td>0</td>\n",
              "      <td>0</td>\n",
              "      <td>0</td>\n",
              "      <td>1</td>\n",
              "      <td>0</td>\n",
              "      <td>0</td>\n",
              "      <td>0</td>\n",
              "      <td>0</td>\n",
              "      <td>897.153846</td>\n",
              "      <td>7.000000</td>\n",
              "      <td>2320.2</td>\n",
              "      <td>172</td>\n",
              "      <td>0</td>\n",
              "      <td>0</td>\n",
              "      <td>0</td>\n",
              "      <td>0</td>\n",
              "      <td>0</td>\n",
              "      <td>0</td>\n",
              "      <td>8</td>\n",
              "      <td>56</td>\n",
              "      <td>5</td>\n",
              "      <td>11601</td>\n",
              "      <td>256</td>\n",
              "      <td>229</td>\n",
              "      <td>6</td>\n",
              "      <td>20</td>\n",
              "      <td>4973877.0</td>\n",
              "      <td>0.0</td>\n",
              "      <td>4973877</td>\n",
              "      <td>4973877</td>\n",
              "      <td>85800000.0</td>\n",
              "      <td>0.0</td>\n",
              "      <td>85800000</td>\n",
              "      <td>85800000</td>\n",
              "    </tr>\n",
              "    <tr>\n",
              "      <th>149714</th>\n",
              "      <td>80</td>\n",
              "      <td>46761</td>\n",
              "      <td>3</td>\n",
              "      <td>5</td>\n",
              "      <td>26</td>\n",
              "      <td>11607</td>\n",
              "      <td>20</td>\n",
              "      <td>0</td>\n",
              "      <td>8.666667</td>\n",
              "      <td>10.263203</td>\n",
              "      <td>10135</td>\n",
              "      <td>0</td>\n",
              "      <td>2321.4</td>\n",
              "      <td>4413.201989</td>\n",
              "      <td>248775.689100</td>\n",
              "      <td>171.082740</td>\n",
              "      <td>6.680143e+03</td>\n",
              "      <td>1.738488e+04</td>\n",
              "      <td>46104</td>\n",
              "      <td>4</td>\n",
              "      <td>423</td>\n",
              "      <td>2.115000e+02</td>\n",
              "      <td>2.736503e+02</td>\n",
              "      <td>405</td>\n",
              "      <td>18</td>\n",
              "      <td>46750</td>\n",
              "      <td>11687.50</td>\n",
              "      <td>2.294505e+04</td>\n",
              "      <td>46104</td>\n",
              "      <td>4</td>\n",
              "      <td>0</td>\n",
              "      <td>0</td>\n",
              "      <td>0</td>\n",
              "      <td>0</td>\n",
              "      <td>72</td>\n",
              "      <td>112</td>\n",
              "      <td>64.156027</td>\n",
              "      <td>106.926712</td>\n",
              "      <td>0</td>\n",
              "      <td>10135</td>\n",
              "      <td>1292.555556</td>\n",
              "      <td>3350.634907</td>\n",
              "      <td>1.120000e+07</td>\n",
              "      <td>0</td>\n",
              "      <td>0</td>\n",
              "      <td>0</td>\n",
              "      <td>1</td>\n",
              "      <td>0</td>\n",
              "      <td>0</td>\n",
              "      <td>0</td>\n",
              "      <td>0</td>\n",
              "      <td>1</td>\n",
              "      <td>1454.125000</td>\n",
              "      <td>8.666667</td>\n",
              "      <td>2321.4</td>\n",
              "      <td>72</td>\n",
              "      <td>0</td>\n",
              "      <td>0</td>\n",
              "      <td>0</td>\n",
              "      <td>0</td>\n",
              "      <td>0</td>\n",
              "      <td>0</td>\n",
              "      <td>3</td>\n",
              "      <td>26</td>\n",
              "      <td>5</td>\n",
              "      <td>11607</td>\n",
              "      <td>8192</td>\n",
              "      <td>229</td>\n",
              "      <td>2</td>\n",
              "      <td>20</td>\n",
              "      <td>0.0</td>\n",
              "      <td>0.0</td>\n",
              "      <td>0</td>\n",
              "      <td>0</td>\n",
              "      <td>0.0</td>\n",
              "      <td>0.0</td>\n",
              "      <td>0</td>\n",
              "      <td>0</td>\n",
              "    </tr>\n",
              "    <tr>\n",
              "      <th>148083</th>\n",
              "      <td>34544</td>\n",
              "      <td>9054927</td>\n",
              "      <td>1</td>\n",
              "      <td>5</td>\n",
              "      <td>6</td>\n",
              "      <td>30</td>\n",
              "      <td>6</td>\n",
              "      <td>6</td>\n",
              "      <td>6.000000</td>\n",
              "      <td>0.000000</td>\n",
              "      <td>6</td>\n",
              "      <td>6</td>\n",
              "      <td>6.0</td>\n",
              "      <td>0.000000</td>\n",
              "      <td>3.975736</td>\n",
              "      <td>0.662623</td>\n",
              "      <td>1.810985e+06</td>\n",
              "      <td>4.029061e+06</td>\n",
              "      <td>9018345</td>\n",
              "      <td>1</td>\n",
              "      <td>0</td>\n",
              "      <td>0.000000e+00</td>\n",
              "      <td>0.000000e+00</td>\n",
              "      <td>0</td>\n",
              "      <td>0</td>\n",
              "      <td>9021764</td>\n",
              "      <td>2255441.00</td>\n",
              "      <td>4.508603e+06</td>\n",
              "      <td>9018345</td>\n",
              "      <td>1</td>\n",
              "      <td>0</td>\n",
              "      <td>0</td>\n",
              "      <td>0</td>\n",
              "      <td>0</td>\n",
              "      <td>20</td>\n",
              "      <td>100</td>\n",
              "      <td>0.110437</td>\n",
              "      <td>0.552186</td>\n",
              "      <td>6</td>\n",
              "      <td>6</td>\n",
              "      <td>6.000000</td>\n",
              "      <td>0.000000</td>\n",
              "      <td>0.000000e+00</td>\n",
              "      <td>0</td>\n",
              "      <td>0</td>\n",
              "      <td>0</td>\n",
              "      <td>0</td>\n",
              "      <td>1</td>\n",
              "      <td>1</td>\n",
              "      <td>0</td>\n",
              "      <td>0</td>\n",
              "      <td>5</td>\n",
              "      <td>7.000000</td>\n",
              "      <td>6.000000</td>\n",
              "      <td>6.0</td>\n",
              "      <td>20</td>\n",
              "      <td>0</td>\n",
              "      <td>0</td>\n",
              "      <td>0</td>\n",
              "      <td>0</td>\n",
              "      <td>0</td>\n",
              "      <td>0</td>\n",
              "      <td>1</td>\n",
              "      <td>6</td>\n",
              "      <td>5</td>\n",
              "      <td>30</td>\n",
              "      <td>229</td>\n",
              "      <td>0</td>\n",
              "      <td>0</td>\n",
              "      <td>20</td>\n",
              "      <td>36582.0</td>\n",
              "      <td>0.0</td>\n",
              "      <td>36582</td>\n",
              "      <td>36582</td>\n",
              "      <td>9018345.0</td>\n",
              "      <td>0.0</td>\n",
              "      <td>9018345</td>\n",
              "      <td>9018345</td>\n",
              "    </tr>\n",
              "    <tr>\n",
              "      <th>43094</th>\n",
              "      <td>80</td>\n",
              "      <td>236035</td>\n",
              "      <td>4</td>\n",
              "      <td>0</td>\n",
              "      <td>24</td>\n",
              "      <td>0</td>\n",
              "      <td>6</td>\n",
              "      <td>6</td>\n",
              "      <td>6.000000</td>\n",
              "      <td>0.000000</td>\n",
              "      <td>0</td>\n",
              "      <td>0</td>\n",
              "      <td>0.0</td>\n",
              "      <td>0.000000</td>\n",
              "      <td>101.679836</td>\n",
              "      <td>16.946639</td>\n",
              "      <td>7.867833e+04</td>\n",
              "      <td>1.354089e+05</td>\n",
              "      <td>235034</td>\n",
              "      <td>1</td>\n",
              "      <td>236035</td>\n",
              "      <td>7.867833e+04</td>\n",
              "      <td>1.354089e+05</td>\n",
              "      <td>235034</td>\n",
              "      <td>1</td>\n",
              "      <td>0</td>\n",
              "      <td>0.00</td>\n",
              "      <td>0.000000e+00</td>\n",
              "      <td>0</td>\n",
              "      <td>0</td>\n",
              "      <td>0</td>\n",
              "      <td>0</td>\n",
              "      <td>0</td>\n",
              "      <td>0</td>\n",
              "      <td>80</td>\n",
              "      <td>0</td>\n",
              "      <td>16.946639</td>\n",
              "      <td>0.000000</td>\n",
              "      <td>6</td>\n",
              "      <td>6</td>\n",
              "      <td>6.000000</td>\n",
              "      <td>0.000000</td>\n",
              "      <td>0.000000e+00</td>\n",
              "      <td>0</td>\n",
              "      <td>0</td>\n",
              "      <td>0</td>\n",
              "      <td>0</td>\n",
              "      <td>1</td>\n",
              "      <td>0</td>\n",
              "      <td>0</td>\n",
              "      <td>0</td>\n",
              "      <td>0</td>\n",
              "      <td>7.500000</td>\n",
              "      <td>6.000000</td>\n",
              "      <td>0.0</td>\n",
              "      <td>80</td>\n",
              "      <td>0</td>\n",
              "      <td>0</td>\n",
              "      <td>0</td>\n",
              "      <td>0</td>\n",
              "      <td>0</td>\n",
              "      <td>0</td>\n",
              "      <td>4</td>\n",
              "      <td>24</td>\n",
              "      <td>0</td>\n",
              "      <td>0</td>\n",
              "      <td>256</td>\n",
              "      <td>-1</td>\n",
              "      <td>3</td>\n",
              "      <td>20</td>\n",
              "      <td>0.0</td>\n",
              "      <td>0.0</td>\n",
              "      <td>0</td>\n",
              "      <td>0</td>\n",
              "      <td>0.0</td>\n",
              "      <td>0.0</td>\n",
              "      <td>0</td>\n",
              "      <td>0</td>\n",
              "    </tr>\n",
              "  </tbody>\n",
              "</table>\n",
              "</div>"
            ],
            "text/plain": [
              "         Destination Port   Flow Duration  ...   Idle Max   Idle Min\n",
              "40037                  80         5076817  ...          0          0\n",
              "132474                 80        90823143  ...   85800000   85800000\n",
              "149714                 80           46761  ...          0          0\n",
              "148083              34544         9054927  ...    9018345    9018345\n",
              "43094                  80          236035  ...          0          0\n",
              "\n",
              "[5 rows x 78 columns]"
            ]
          },
          "metadata": {
            "tags": []
          },
          "execution_count": 7
        }
      ]
    },
    {
      "cell_type": "code",
      "metadata": {
        "id": "2c1J6MPK1PMq",
        "colab_type": "code",
        "colab": {}
      },
      "source": [
        "X=X.drop([' Bwd PSH Flags',' Fwd URG Flags',' Bwd URG Flags',' RST Flag Count',' CWE Flag Count',' ECE Flag Count','Fwd Avg Bytes/Bulk',' Fwd Avg Packets/Bulk',' Fwd Avg Bulk Rate',' Bwd Avg Bytes/Bulk',' Bwd Avg Packets/Bulk','Bwd Avg Bulk Rate',' Active Max',' Bwd IAT Min',' act_data_pkt_fwd','Idle Mean',' Active Std',' Fwd Packet Length Max',' Idle Min',' Bwd Packets/s'], axis = 1) \n",
        "T=T.drop([' Bwd PSH Flags',' Fwd URG Flags',' Bwd URG Flags',' RST Flag Count',' CWE Flag Count',' ECE Flag Count','Fwd Avg Bytes/Bulk',' Fwd Avg Packets/Bulk',' Fwd Avg Bulk Rate',' Bwd Avg Bytes/Bulk',' Bwd Avg Packets/Bulk','Bwd Avg Bulk Rate',' Active Max',' Bwd IAT Min',' act_data_pkt_fwd','Idle Mean',' Active Std',' Fwd Packet Length Max',' Idle Min',' Bwd Packets/s'], axis = 1)\n",
        "vx=vx.drop([' Bwd PSH Flags',' Fwd URG Flags',' Bwd URG Flags',' RST Flag Count',' CWE Flag Count',' ECE Flag Count','Fwd Avg Bytes/Bulk',' Fwd Avg Packets/Bulk',' Fwd Avg Bulk Rate',' Bwd Avg Bytes/Bulk',' Bwd Avg Packets/Bulk','Bwd Avg Bulk Rate',' Active Max',' Bwd IAT Min',' act_data_pkt_fwd','Idle Mean',' Active Std',' Fwd Packet Length Max',' Idle Min',' Bwd Packets/s'], axis = 1)  "
      ],
      "execution_count": 0,
      "outputs": []
    },
    {
      "cell_type": "code",
      "metadata": {
        "id": "7JRf-pQ01PNi",
        "colab_type": "code",
        "outputId": "609fc3bb-5341-4d5a-c6f2-27bc3e9e31b6",
        "colab": {
          "base_uri": "https://localhost:8080/",
          "height": 34
        }
      },
      "source": [
        "X.shape"
      ],
      "execution_count": 0,
      "outputs": [
        {
          "output_type": "execute_result",
          "data": {
            "text/plain": [
              "(180821, 58)"
            ]
          },
          "metadata": {
            "tags": []
          },
          "execution_count": 11
        }
      ]
    },
    {
      "cell_type": "code",
      "metadata": {
        "id": "OiwgWl9Y1PNm",
        "colab_type": "code",
        "outputId": "8fd6ff2e-d31e-42bc-a66d-2049c26927a9",
        "colab": {
          "base_uri": "https://localhost:8080/",
          "height": 238
        }
      },
      "source": [
        "trainXcnn = np.array(X)\n",
        "testTcnn = np.array(T)\n",
        "valx_nn = np.array(vx)\n",
        "\n",
        "trainXcnn.astype(float)\n",
        "testTcnn.astype(float)\n",
        "valx_nn.astype(float)"
      ],
      "execution_count": 0,
      "outputs": [
        {
          "output_type": "execute_result",
          "data": {
            "text/plain": [
              "array([[8.00000000e+01, 5.07681700e+06, 2.00000000e+00, ...,\n",
              "        0.00000000e+00, 0.00000000e+00, 0.00000000e+00],\n",
              "       [8.00000000e+01, 9.08231430e+07, 8.00000000e+00, ...,\n",
              "        4.97387700e+06, 0.00000000e+00, 8.58000000e+07],\n",
              "       [8.00000000e+01, 4.67610000e+04, 3.00000000e+00, ...,\n",
              "        0.00000000e+00, 0.00000000e+00, 0.00000000e+00],\n",
              "       ...,\n",
              "       [8.00000000e+01, 4.08250000e+04, 3.00000000e+00, ...,\n",
              "        0.00000000e+00, 0.00000000e+00, 0.00000000e+00],\n",
              "       [8.00000000e+01, 1.02625128e+08, 8.00000000e+00, ...,\n",
              "        1.12800000e+03, 5.92000000e+07, 9.29000000e+07],\n",
              "       [8.00000000e+01, 6.01599400e+06, 5.00000000e+00, ...,\n",
              "        7.89000000e+02, 0.00000000e+00, 6.01520500e+06]])"
            ]
          },
          "metadata": {
            "tags": []
          },
          "execution_count": 9
        }
      ]
    },
    {
      "cell_type": "code",
      "metadata": {
        "id": "M45HJ_T01PNp",
        "colab_type": "code",
        "colab": {}
      },
      "source": [
        "scaler = Normalizer().fit(trainXcnn)\n",
        "trainXcnn = scaler.transform(trainXcnn)\n",
        "\n",
        "scaler = Normalizer().fit(testTcnn)\n",
        "testTcnn = scaler.transform(testTcnn)\n",
        "\n",
        "scaler = Normalizer().fit(valx_nn)\n",
        "valx_nn = scaler.transform(valx_nn)"
      ],
      "execution_count": 0,
      "outputs": []
    },
    {
      "cell_type": "code",
      "metadata": {
        "id": "i3vtj2S21PNs",
        "colab_type": "code",
        "colab": {}
      },
      "source": [
        "from sklearn.preprocessing import StandardScaler #normalization\n",
        "trainX= StandardScaler().fit_transform(X)\n",
        "testT= StandardScaler().fit_transform(T)\n",
        "valx= StandardScaler().fit_transform(vx)\n"
      ],
      "execution_count": 0,
      "outputs": []
    },
    {
      "cell_type": "code",
      "metadata": {
        "id": "8m-4qYWi1PNy",
        "colab_type": "code",
        "outputId": "1f131075-d339-49dc-d673-ae37554f438b",
        "colab": {
          "base_uri": "https://localhost:8080/",
          "height": 34
        }
      },
      "source": [
        "y_train = np.array(Y)\n",
        "y_test = np.array(C)\n",
        "valy = np.array(vy)\n",
        "\n",
        "from collections import Counter\n",
        "Counter(y_test)"
      ],
      "execution_count": 0,
      "outputs": [
        {
          "output_type": "execute_result",
          "data": {
            "text/plain": [
              "Counter({0: 9658, 1: 12917})"
            ]
          },
          "metadata": {
            "tags": []
          },
          "execution_count": 12
        }
      ]
    },
    {
      "cell_type": "code",
      "metadata": {
        "id": "aJIhql0z1POu",
        "colab_type": "code",
        "outputId": "7563c38f-3eea-4764-8cf4-217ae1cec1f9",
        "colab": {
          "base_uri": "https://localhost:8080/",
          "height": 68
        }
      },
      "source": [
        "y_train1= to_categorical(y_train)\n",
        "y_test1= to_categorical(y_test)\n",
        "valy1= to_categorical(valy)\n",
        "\n",
        "\n",
        "X_train = np.array(trainX)\n",
        "X_test = np.array(testT)##\n",
        "X_val = np.array(valx)##\n",
        "\n",
        "X_train_nn = np.array(trainXcnn)\n",
        "X_test_nn = np.array(testTcnn)##\n",
        "x_val_nn = np.array(valx_nn)##\n",
        "\n",
        "\n",
        "\n",
        "batch_size = 64\n",
        "print(y_train1.shape)\n",
        "print(y_test1.shape)\n",
        "X_train_nn.shape"
      ],
      "execution_count": 0,
      "outputs": [
        {
          "output_type": "stream",
          "text": [
            "(180821, 2)\n",
            "(22575, 2)\n"
          ],
          "name": "stdout"
        },
        {
          "output_type": "execute_result",
          "data": {
            "text/plain": [
              "(180821, 58)"
            ]
          },
          "metadata": {
            "tags": []
          },
          "execution_count": 13
        }
      ]
    },
    {
      "cell_type": "code",
      "metadata": {
        "id": "MpPmnYhl1PPC",
        "colab_type": "code",
        "outputId": "8cb3aa2c-c475-4661-f87f-0c14bc864551",
        "colab": {
          "base_uri": "https://localhost:8080/",
          "height": 255
        }
      },
      "source": [
        "from sklearn.neighbors import KNeighborsClassifier\n",
        "\n",
        "neigh = KNeighborsClassifier(n_neighbors=1,weights='uniform')\n",
        "neigh.fit(X_train, y_train)\n",
        "pred_knn = neigh.predict(X_test) # test the output \n",
        "# Python script for confusion matrix creation. \n",
        "from sklearn.metrics import confusion_matrix \n",
        "from sklearn.metrics import accuracy_score \n",
        "from sklearn.metrics import classification_report \n",
        " \n",
        "results = confusion_matrix(y_test, pred_knn) \n",
        "print('Confusion Matrix :')\n",
        "print(results) \n",
        "print('Accuracy Score :',accuracy_score(y_test, pred_knn))\n",
        "print('Report : ')\n",
        "print(classification_report(y_test, pred_knn))"
      ],
      "execution_count": 0,
      "outputs": [
        {
          "output_type": "stream",
          "text": [
            "Confusion Matrix :\n",
            "[[ 9651     7]\n",
            " [    3 12914]]\n",
            "Accuracy Score : 0.9995570321151717\n",
            "Report : \n",
            "              precision    recall  f1-score   support\n",
            "\n",
            "           0       1.00      1.00      1.00      9658\n",
            "           1       1.00      1.00      1.00     12917\n",
            "\n",
            "    accuracy                           1.00     22575\n",
            "   macro avg       1.00      1.00      1.00     22575\n",
            "weighted avg       1.00      1.00      1.00     22575\n",
            "\n"
          ],
          "name": "stdout"
        }
      ]
    },
    {
      "cell_type": "code",
      "metadata": {
        "id": "QOEy8IxiRKzP",
        "colab_type": "code",
        "outputId": "129568ed-7086-47ba-9669-bbe3feeb8329",
        "colab": {
          "base_uri": "https://localhost:8080/",
          "height": 34
        }
      },
      "source": [
        "# reshape input to be [samples, time steps, features]\n",
        "X_train1_nn = np.reshape(X_train_nn, (X_train_nn.shape[0],X_train_nn.shape[1],1))\n",
        "X_test1_nn = np.reshape(X_test_nn, (X_test_nn.shape[0],X_test_nn.shape[1],1))\n",
        "x_val1_nn = np.reshape(x_val_nn, (x_val_nn.shape[0],x_val_nn.shape[1],1))\n",
        "\n",
        "X_test1_nn.shape"
      ],
      "execution_count": 0,
      "outputs": [
        {
          "output_type": "execute_result",
          "data": {
            "text/plain": [
              "(22575, 58, 1)"
            ]
          },
          "metadata": {
            "tags": []
          },
          "execution_count": 14
        }
      ]
    },
    {
      "cell_type": "code",
      "metadata": {
        "id": "hlg0S57I6tFd",
        "colab_type": "code",
        "outputId": "c8efd554-bc15-47b3-ac4a-dc360718836c",
        "colab": {
          "base_uri": "https://localhost:8080/",
          "height": 428
        }
      },
      "source": [
        "from keras.models import model_from_json\n",
        "import h5py\n",
        "\n",
        "json_file = open('/content/drive/My Drive/BE FINAL/cic_final-code-results/nn_model.json', 'r')\n",
        "nn_model_json = json_file.read()\n",
        "json_file.close()\n",
        "model = model_from_json(nn_model_json)\n",
        "model.load_weights(\"/content/drive/My Drive/BE FINAL/cic_final-code-results/nn_model.h5\")\n",
        "model._make_predict_function()\n",
        "\t \n",
        "\n",
        "#pred_nn = nn_model.predict_classes(X_test_nn)"
      ],
      "execution_count": 0,
      "outputs": [
        {
          "output_type": "stream",
          "text": [
            "WARNING:tensorflow:From /usr/local/lib/python3.6/dist-packages/keras/backend/tensorflow_backend.py:541: The name tf.placeholder is deprecated. Please use tf.compat.v1.placeholder instead.\n",
            "\n",
            "WARNING:tensorflow:From /usr/local/lib/python3.6/dist-packages/keras/backend/tensorflow_backend.py:4432: The name tf.random_uniform is deprecated. Please use tf.random.uniform instead.\n",
            "\n",
            "WARNING:tensorflow:From /usr/local/lib/python3.6/dist-packages/keras/backend/tensorflow_backend.py:66: The name tf.get_default_graph is deprecated. Please use tf.compat.v1.get_default_graph instead.\n",
            "\n",
            "WARNING:tensorflow:From /usr/local/lib/python3.6/dist-packages/keras/backend/tensorflow_backend.py:148: The name tf.placeholder_with_default is deprecated. Please use tf.compat.v1.placeholder_with_default instead.\n",
            "\n",
            "WARNING:tensorflow:From /usr/local/lib/python3.6/dist-packages/keras/backend/tensorflow_backend.py:3733: calling dropout (from tensorflow.python.ops.nn_ops) with keep_prob is deprecated and will be removed in a future version.\n",
            "Instructions for updating:\n",
            "Please use `rate` instead of `keep_prob`. Rate should be set to `rate = 1 - keep_prob`.\n",
            "WARNING:tensorflow:From /usr/local/lib/python3.6/dist-packages/keras/backend/tensorflow_backend.py:190: The name tf.get_default_session is deprecated. Please use tf.compat.v1.get_default_session instead.\n",
            "\n",
            "WARNING:tensorflow:From /usr/local/lib/python3.6/dist-packages/keras/backend/tensorflow_backend.py:197: The name tf.ConfigProto is deprecated. Please use tf.compat.v1.ConfigProto instead.\n",
            "\n",
            "WARNING:tensorflow:From /usr/local/lib/python3.6/dist-packages/keras/backend/tensorflow_backend.py:203: The name tf.Session is deprecated. Please use tf.compat.v1.Session instead.\n",
            "\n",
            "WARNING:tensorflow:From /usr/local/lib/python3.6/dist-packages/keras/backend/tensorflow_backend.py:207: The name tf.global_variables is deprecated. Please use tf.compat.v1.global_variables instead.\n",
            "\n",
            "WARNING:tensorflow:From /usr/local/lib/python3.6/dist-packages/keras/backend/tensorflow_backend.py:216: The name tf.is_variable_initialized is deprecated. Please use tf.compat.v1.is_variable_initialized instead.\n",
            "\n",
            "WARNING:tensorflow:From /usr/local/lib/python3.6/dist-packages/keras/backend/tensorflow_backend.py:223: The name tf.variables_initializer is deprecated. Please use tf.compat.v1.variables_initializer instead.\n",
            "\n"
          ],
          "name": "stdout"
        }
      ]
    },
    {
      "cell_type": "code",
      "metadata": {
        "id": "1FMm4Fbb1PSA",
        "colab_type": "code",
        "outputId": "6eb64e61-ce42-456d-c97f-5e34223fa1e2",
        "colab": {
          "base_uri": "https://localhost:8080/",
          "height": 1000
        }
      },
      "source": [
        "\n",
        "# 1. define the network\n",
        "from time import time\n",
        "import tensorflow as tf\n",
        "from keras.models import model_from_json\n",
        "\n",
        "t0 = time()\n",
        "\n",
        "# 1. define the network\n",
        "model = Sequential()\n",
        "model.add(Dense(128,input_dim=58,activation='relu'))  \n",
        "model.add(Dropout(0.01))\n",
        "model.add(Dense(64,activation='relu'))  \n",
        "model.add(Dropout(0.01))\n",
        "model.add(Dense(128,activation='relu'))  \n",
        "model.add(Dropout(0.01))\n",
        "model.add(Dense(2))\n",
        "model.add(Activation('softmax'))\n",
        "stopper = EarlyStopping(monitor='val_acc', patience = 10, mode='auto')\n",
        "checkpointer = callbacks.ModelCheckpoint(filepath=\"drive/My Drive/BE FINAL/cic_final-code-results/checkpoint-{epoch:02d}.hdf5\", verbose=1, save_best_only=True, monitor='val_acc',mode='max')\n",
        "csv_logger = CSVLogger('drive/My Drive/BE FINAL/cic_final-code-results/cnntrainanalysis3.csv',separator=',', append=False)\n",
        "model.compile(loss='categorical_crossentropy',optimizer='adam',metrics=['accuracy'])#,tf.keras.metrics.Precision()])#, tf.keras.metrics.Recall()])\n",
        "history = model.fit(X_train_nn, y_train1,batch_size=batch_size,validation_data=(x_val_nn, valy1),nb_epoch=1000,callbacks = [stopper,checkpointer,csv_logger])\n",
        "# serialize model to JSON\n",
        "#model_json = model.to_json()\n",
        "#with open(\"drive/My Drive/BE FINAL/cic_final-code-results/nn_model.json\", \"w\") as json_file:\n",
        "   # json_file.write(model_json)\n",
        "# serialize weights to HDF5\n",
        "#model.save_weights(\"drive/My Drive/BE FINAL/cic_final-code-results/nn_model.h5\")\n",
        "#print(\"Saved model to disk\")\n",
        "tt = time() - t0\n",
        "print(\"Predicted in {} seconds\".format(round(tt,3)))\n"
      ],
      "execution_count": 0,
      "outputs": [
        {
          "output_type": "stream",
          "text": [
            "WARNING:tensorflow:From /usr/local/lib/python3.6/dist-packages/keras/backend/tensorflow_backend.py:66: The name tf.get_default_graph is deprecated. Please use tf.compat.v1.get_default_graph instead.\n",
            "\n",
            "WARNING:tensorflow:From /usr/local/lib/python3.6/dist-packages/keras/backend/tensorflow_backend.py:541: The name tf.placeholder is deprecated. Please use tf.compat.v1.placeholder instead.\n",
            "\n",
            "WARNING:tensorflow:From /usr/local/lib/python3.6/dist-packages/keras/backend/tensorflow_backend.py:4432: The name tf.random_uniform is deprecated. Please use tf.random.uniform instead.\n",
            "\n",
            "WARNING:tensorflow:From /usr/local/lib/python3.6/dist-packages/keras/backend/tensorflow_backend.py:148: The name tf.placeholder_with_default is deprecated. Please use tf.compat.v1.placeholder_with_default instead.\n",
            "\n",
            "WARNING:tensorflow:From /usr/local/lib/python3.6/dist-packages/keras/backend/tensorflow_backend.py:3733: calling dropout (from tensorflow.python.ops.nn_ops) with keep_prob is deprecated and will be removed in a future version.\n",
            "Instructions for updating:\n",
            "Please use `rate` instead of `keep_prob`. Rate should be set to `rate = 1 - keep_prob`.\n",
            "WARNING:tensorflow:From /usr/local/lib/python3.6/dist-packages/keras/optimizers.py:793: The name tf.train.Optimizer is deprecated. Please use tf.compat.v1.train.Optimizer instead.\n",
            "\n",
            "WARNING:tensorflow:From /usr/local/lib/python3.6/dist-packages/keras/backend/tensorflow_backend.py:3576: The name tf.log is deprecated. Please use tf.math.log instead.\n",
            "\n",
            "WARNING:tensorflow:From /usr/local/lib/python3.6/dist-packages/tensorflow_core/python/ops/math_grad.py:1424: where (from tensorflow.python.ops.array_ops) is deprecated and will be removed in a future version.\n",
            "Instructions for updating:\n",
            "Use tf.where in 2.0, which has the same broadcast rule as np.where\n"
          ],
          "name": "stdout"
        },
        {
          "output_type": "stream",
          "text": [
            "/usr/local/lib/python3.6/dist-packages/ipykernel_launcher.py:21: UserWarning: The `nb_epoch` argument in `fit` has been renamed `epochs`.\n"
          ],
          "name": "stderr"
        },
        {
          "output_type": "stream",
          "text": [
            "WARNING:tensorflow:From /usr/local/lib/python3.6/dist-packages/keras/backend/tensorflow_backend.py:1033: The name tf.assign_add is deprecated. Please use tf.compat.v1.assign_add instead.\n",
            "\n",
            "WARNING:tensorflow:From /usr/local/lib/python3.6/dist-packages/keras/backend/tensorflow_backend.py:1020: The name tf.assign is deprecated. Please use tf.compat.v1.assign instead.\n",
            "\n",
            "WARNING:tensorflow:From /usr/local/lib/python3.6/dist-packages/keras/backend/tensorflow_backend.py:3005: The name tf.Session is deprecated. Please use tf.compat.v1.Session instead.\n",
            "\n",
            "Train on 180821 samples, validate on 22349 samples\n",
            "Epoch 1/1000\n",
            "WARNING:tensorflow:From /usr/local/lib/python3.6/dist-packages/keras/backend/tensorflow_backend.py:190: The name tf.get_default_session is deprecated. Please use tf.compat.v1.get_default_session instead.\n",
            "\n",
            "WARNING:tensorflow:From /usr/local/lib/python3.6/dist-packages/keras/backend/tensorflow_backend.py:197: The name tf.ConfigProto is deprecated. Please use tf.compat.v1.ConfigProto instead.\n",
            "\n",
            "WARNING:tensorflow:From /usr/local/lib/python3.6/dist-packages/keras/backend/tensorflow_backend.py:207: The name tf.global_variables is deprecated. Please use tf.compat.v1.global_variables instead.\n",
            "\n",
            "WARNING:tensorflow:From /usr/local/lib/python3.6/dist-packages/keras/backend/tensorflow_backend.py:216: The name tf.is_variable_initialized is deprecated. Please use tf.compat.v1.is_variable_initialized instead.\n",
            "\n",
            "WARNING:tensorflow:From /usr/local/lib/python3.6/dist-packages/keras/backend/tensorflow_backend.py:223: The name tf.variables_initializer is deprecated. Please use tf.compat.v1.variables_initializer instead.\n",
            "\n",
            "180821/180821 [==============================] - 8s 45us/step - loss: 0.0528 - acc: 0.9839 - val_loss: 0.0228 - val_acc: 0.9930\n",
            "\n",
            "Epoch 00001: val_acc improved from -inf to 0.99302, saving model to drive/My Drive/BE FINAL/cic_final-code-results/checkpoint-01.hdf5\n",
            "Epoch 2/1000\n",
            "180821/180821 [==============================] - 8s 42us/step - loss: 0.0251 - acc: 0.9928 - val_loss: 0.0188 - val_acc: 0.9950\n",
            "\n",
            "Epoch 00002: val_acc improved from 0.99302 to 0.99499, saving model to drive/My Drive/BE FINAL/cic_final-code-results/checkpoint-02.hdf5\n",
            "Epoch 3/1000\n",
            "180821/180821 [==============================] - 7s 41us/step - loss: 0.0199 - acc: 0.9944 - val_loss: 0.0149 - val_acc: 0.9957\n",
            "\n",
            "Epoch 00003: val_acc improved from 0.99499 to 0.99570, saving model to drive/My Drive/BE FINAL/cic_final-code-results/checkpoint-03.hdf5\n",
            "Epoch 4/1000\n",
            "180821/180821 [==============================] - 7s 41us/step - loss: 0.0152 - acc: 0.9960 - val_loss: 0.0354 - val_acc: 0.9830\n",
            "\n",
            "Epoch 00004: val_acc did not improve from 0.99570\n",
            "Epoch 5/1000\n",
            "180821/180821 [==============================] - 7s 41us/step - loss: 0.0124 - acc: 0.9968 - val_loss: 0.0079 - val_acc: 0.9974\n",
            "\n",
            "Epoch 00005: val_acc improved from 0.99570 to 0.99740, saving model to drive/My Drive/BE FINAL/cic_final-code-results/checkpoint-05.hdf5\n",
            "Epoch 6/1000\n",
            "180821/180821 [==============================] - 7s 41us/step - loss: 0.0104 - acc: 0.9971 - val_loss: 0.0059 - val_acc: 0.9988\n",
            "\n",
            "Epoch 00006: val_acc improved from 0.99740 to 0.99879, saving model to drive/My Drive/BE FINAL/cic_final-code-results/checkpoint-06.hdf5\n",
            "Epoch 7/1000\n",
            "180821/180821 [==============================] - 7s 40us/step - loss: 0.0091 - acc: 0.9974 - val_loss: 0.0051 - val_acc: 0.9988\n",
            "\n",
            "Epoch 00007: val_acc improved from 0.99879 to 0.99884, saving model to drive/My Drive/BE FINAL/cic_final-code-results/checkpoint-07.hdf5\n",
            "Epoch 8/1000\n",
            "180821/180821 [==============================] - 8s 42us/step - loss: 0.0078 - acc: 0.9978 - val_loss: 0.0045 - val_acc: 0.9987\n",
            "\n",
            "Epoch 00008: val_acc did not improve from 0.99884\n",
            "Epoch 9/1000\n",
            "180821/180821 [==============================] - 7s 40us/step - loss: 0.0074 - acc: 0.9979 - val_loss: 0.0075 - val_acc: 0.9970\n",
            "\n",
            "Epoch 00009: val_acc did not improve from 0.99884\n",
            "Epoch 10/1000\n",
            "180821/180821 [==============================] - 7s 41us/step - loss: 0.0072 - acc: 0.9981 - val_loss: 0.0045 - val_acc: 0.9987\n",
            "\n",
            "Epoch 00010: val_acc did not improve from 0.99884\n",
            "Epoch 11/1000\n",
            "180821/180821 [==============================] - 7s 41us/step - loss: 0.0074 - acc: 0.9979 - val_loss: 0.0041 - val_acc: 0.9990\n",
            "\n",
            "Epoch 00011: val_acc improved from 0.99884 to 0.99902, saving model to drive/My Drive/BE FINAL/cic_final-code-results/checkpoint-11.hdf5\n",
            "Epoch 12/1000\n",
            "180821/180821 [==============================] - 7s 40us/step - loss: 0.0068 - acc: 0.9981 - val_loss: 0.0040 - val_acc: 0.9988\n",
            "\n",
            "Epoch 00012: val_acc did not improve from 0.99902\n",
            "Epoch 13/1000\n",
            "180821/180821 [==============================] - 7s 40us/step - loss: 0.0070 - acc: 0.9980 - val_loss: 0.0188 - val_acc: 0.9962\n",
            "\n",
            "Epoch 00013: val_acc did not improve from 0.99902\n",
            "Epoch 14/1000\n",
            "180821/180821 [==============================] - 8s 43us/step - loss: 0.0068 - acc: 0.9981 - val_loss: 0.0055 - val_acc: 0.9988\n",
            "\n",
            "Epoch 00014: val_acc did not improve from 0.99902\n",
            "Epoch 15/1000\n",
            "180821/180821 [==============================] - 7s 40us/step - loss: 0.0061 - acc: 0.9984 - val_loss: 0.0166 - val_acc: 0.9947\n",
            "\n",
            "Epoch 00015: val_acc did not improve from 0.99902\n",
            "Epoch 16/1000\n",
            "180821/180821 [==============================] - 7s 41us/step - loss: 0.0065 - acc: 0.9982 - val_loss: 0.0042 - val_acc: 0.9989\n",
            "\n",
            "Epoch 00016: val_acc did not improve from 0.99902\n",
            "Epoch 17/1000\n",
            "180821/180821 [==============================] - 7s 40us/step - loss: 0.0059 - acc: 0.9984 - val_loss: 0.0031 - val_acc: 0.9992\n",
            "\n",
            "Epoch 00017: val_acc improved from 0.99902 to 0.99919, saving model to drive/My Drive/BE FINAL/cic_final-code-results/checkpoint-17.hdf5\n",
            "Epoch 18/1000\n",
            "180821/180821 [==============================] - 7s 40us/step - loss: 0.0057 - acc: 0.9985 - val_loss: 0.0038 - val_acc: 0.9991\n",
            "\n",
            "Epoch 00018: val_acc did not improve from 0.99919\n",
            "Epoch 19/1000\n",
            "180821/180821 [==============================] - 7s 41us/step - loss: 0.0053 - acc: 0.9985 - val_loss: 0.0041 - val_acc: 0.9991\n",
            "\n",
            "Epoch 00019: val_acc did not improve from 0.99919\n",
            "Epoch 20/1000\n",
            "180821/180821 [==============================] - 7s 40us/step - loss: 0.0053 - acc: 0.9986 - val_loss: 0.0334 - val_acc: 0.9928\n",
            "\n",
            "Epoch 00020: val_acc did not improve from 0.99919\n",
            "Epoch 21/1000\n",
            "180821/180821 [==============================] - 7s 41us/step - loss: 0.0057 - acc: 0.9984 - val_loss: 0.0031 - val_acc: 0.9990\n",
            "\n",
            "Epoch 00021: val_acc did not improve from 0.99919\n",
            "Epoch 22/1000\n",
            "180821/180821 [==============================] - 7s 39us/step - loss: 0.0051 - acc: 0.9986 - val_loss: 0.0034 - val_acc: 0.9991\n",
            "\n",
            "Epoch 00022: val_acc did not improve from 0.99919\n",
            "Epoch 23/1000\n",
            "180821/180821 [==============================] - 10s 55us/step - loss: 0.0060 - acc: 0.9985 - val_loss: 0.0082 - val_acc: 0.9983\n",
            "\n",
            "Epoch 00023: val_acc did not improve from 0.99919\n",
            "Epoch 24/1000\n",
            "180821/180821 [==============================] - 7s 40us/step - loss: 0.0057 - acc: 0.9985 - val_loss: 0.0038 - val_acc: 0.9989\n",
            "\n",
            "Epoch 00024: val_acc did not improve from 0.99919\n",
            "Epoch 25/1000\n",
            "180821/180821 [==============================] - 7s 41us/step - loss: 0.0049 - acc: 0.9987 - val_loss: 0.0041 - val_acc: 0.9991\n",
            "\n",
            "Epoch 00025: val_acc did not improve from 0.99919\n",
            "Epoch 26/1000\n",
            "180821/180821 [==============================] - 7s 41us/step - loss: 0.0045 - acc: 0.9987 - val_loss: 0.0034 - val_acc: 0.9991\n",
            "\n",
            "Epoch 00026: val_acc did not improve from 0.99919\n",
            "Epoch 27/1000\n",
            "180821/180821 [==============================] - 7s 41us/step - loss: 0.0047 - acc: 0.9987 - val_loss: 0.0034 - val_acc: 0.9990\n",
            "\n",
            "Epoch 00027: val_acc did not improve from 0.99919\n",
            "Predicted in 203.587 seconds\n"
          ],
          "name": "stdout"
        }
      ]
    },
    {
      "cell_type": "code",
      "metadata": {
        "id": "atoERiVheGTH",
        "colab_type": "code",
        "outputId": "6531a15c-8ab0-401b-ecb8-1fd42e7960d3",
        "colab": {
          "base_uri": "https://localhost:8080/"
        }
      },
      "source": [
        "from keras.utils import plot_model\n",
        "plot_model(model, to_file='drive/My Drive/BE FINAL/cic_final-code-results/Algo2-cicddos_model.png')"
      ],
      "execution_count": 0,
      "outputs": [
        {
          "output_type": "execute_result",
          "data": {
            "image/png": "[encoded data removed]",
            "text/plain": [
              "<IPython.core.display.Image object>"
            ]
          },
          "metadata": {
            "tags": []
          },
          "execution_count": 20
        }
      ]
    },
    {
      "cell_type": "code",
      "metadata": {
        "id": "SY4DenbueGeH",
        "colab_type": "code",
        "outputId": "14e6bbbb-eff4-47f7-b792-e3ccb3f4702b",
        "colab": {
          "base_uri": "https://localhost:8080/"
        }
      },
      "source": [
        "# Plot training & validation accuracy values\n",
        "import matplotlib.pyplot as plt\n",
        "\n",
        "plt.plot(history.history['acc'])\n",
        "plt.plot(history.history['val_acc'])\n",
        "plt.title('Model accuracy')\n",
        "plt.ylabel('Accuracy')\n",
        "plt.xlabel('Epoch')\n",
        "plt.legend(['Train', 'Test'], loc='upper left')\n",
        "plt.show()\n",
        "\n",
        "# Plot training & validation loss values\n",
        "plt.plot(history.history['loss'])\n",
        "plt.plot(history.history['val_loss'])\n",
        "plt.title('Model loss')\n",
        "plt.ylabel('Loss')\n",
        "plt.xlabel('Epoch')\n",
        "plt.legend(['Train', 'Test'], loc='upper left')\n",
        "plt.show()"
      ],
      "execution_count": 0,
      "outputs": [
        {
          "output_type": "display_data",
          "data": {
            "image/png": "[encoded data removed]",
            "text/plain": [
              "<Figure size 432x288 with 1 Axes>"
            ]
          },
          "metadata": {
            "tags": []
          }
        },
        {
          "output_type": "display_data",
          "data": {
            "image/png": "[encoded data removed]",
            "text/plain": [
              "<Figure size 432x288 with 1 Axes>"
            ]
          },
          "metadata": {
            "tags": []
          }
        }
      ]
    },
    {
      "cell_type": "code",
      "metadata": {
        "id": "bAIM2FiOZcYy",
        "colab_type": "code",
        "outputId": "3e5de635-df18-408a-c668-0aefb131d540",
        "colab": {
          "base_uri": "https://localhost:8080/",
          "height": 289
        }
      },
      "source": [
        "model.compile(loss='categorical_crossentropy',optimizer='adam',metrics=['accuracy'])#,tf.keras.metrics.Precision()])#, tf.keras.metrics.Recall()])\n",
        "\n",
        "pred_cnn1 = model.predict_classes(X_test_nn)\n",
        "loss, accuracy = model.evaluate(X_test_nn, y_test1)\n",
        "print(accuracy)#preci=0.99,0.99 ,0.9994241417497232\n",
        "# Python script for confusion matrix creation. \n",
        "from sklearn.metrics import confusion_matrix \n",
        "from sklearn.metrics import accuracy_score \n",
        "from sklearn.metrics import classification_report \n",
        " \n",
        "results = confusion_matrix(y_test, pred_cnn1) \n",
        "print('Confusion Matrix :')\n",
        "print(results) \n",
        "print('Accuracy Score :',accuracy_score(y_test, pred_cnn1))\n",
        "print('Report : ')\n",
        "print(classification_report(y_test, pred_cnn1))\n",
        "\n",
        "\n"
      ],
      "execution_count": 0,
      "outputs": [
        {
          "output_type": "stream",
          "text": [
            "22575/22575 [==============================] - 1s 23us/step\n",
            "0.999202657807309\n",
            "Confusion Matrix :\n",
            "[[ 9646    12]\n",
            " [    6 12911]]\n",
            "Accuracy Score : 0.999202657807309\n",
            "Report : \n",
            "              precision    recall  f1-score   support\n",
            "\n",
            "           0       1.00      1.00      1.00      9658\n",
            "           1       1.00      1.00      1.00     12917\n",
            "\n",
            "    accuracy                           1.00     22575\n",
            "   macro avg       1.00      1.00      1.00     22575\n",
            "weighted avg       1.00      1.00      1.00     22575\n",
            "\n"
          ],
          "name": "stdout"
        }
      ]
    },
    {
      "cell_type": "code",
      "metadata": {
        "id": "n-QaEZqS1PSD",
        "colab_type": "code",
        "outputId": "7e457bb4-07c3-4477-f5fa-5edc9230e2f2",
        "colab": {
          "base_uri": "https://localhost:8080/",
          "height": 34
        }
      },
      "source": [
        "y_test1.shape"
      ],
      "execution_count": 0,
      "outputs": [
        {
          "output_type": "execute_result",
          "data": {
            "text/plain": [
              "(22575, 2)"
            ]
          },
          "metadata": {
            "tags": []
          },
          "execution_count": 21
        }
      ]
    },
    {
      "cell_type": "code",
      "metadata": {
        "id": "00XHUZRj1PSM",
        "colab_type": "code",
        "colab": {}
      },
      "source": [
        "pred_cnn_prob = model.predict_proba(X_test_nn, batch_size = 64)\n"
      ],
      "execution_count": 0,
      "outputs": []
    },
    {
      "cell_type": "code",
      "metadata": {
        "id": "x9-pTcr61PSm",
        "colab_type": "code",
        "colab": {}
      },
      "source": [
        "ind=[]\n",
        "for i in range(y_test.shape[0]):\n",
        "  if y_test[i]!=pred_cnn1[i]:\n",
        "    ind.append(i)"
      ],
      "execution_count": 0,
      "outputs": []
    },
    {
      "cell_type": "code",
      "metadata": {
        "id": "cQ4Bt0891PSq",
        "colab_type": "code",
        "outputId": "285634ca-a61a-4da7-da81-af8c88544513",
        "colab": {
          "base_uri": "https://localhost:8080/",
          "height": 34
        }
      },
      "source": [
        "print(y_test.shape[0]-len(ind))"
      ],
      "execution_count": 0,
      "outputs": [
        {
          "output_type": "stream",
          "text": [
            "22554\n"
          ],
          "name": "stdout"
        }
      ]
    },
    {
      "cell_type": "code",
      "metadata": {
        "id": "cbncDIIf1PS-",
        "colab_type": "code",
        "outputId": "cd3e0d80-e380-4a6e-870c-ba3369f8df58",
        "colab": {
          "base_uri": "https://localhost:8080/",
          "height": 51
        }
      },
      "source": [
        "k=0\n",
        "corr=[]\n",
        "for i in range(pred_cnn_prob.shape[0]):\n",
        "  if i not in ind:\n",
        "    pred_cnn_prob[i].sort()\n",
        "    corr.append(abs(pred_cnn_prob[i][1]-pred_cnn_prob[i][0]))\n",
        "    k+=1\n",
        "l=0\n",
        "for data in corr:\n",
        "  if data<0.96:\n",
        "    #print(data)\n",
        "    l+=1\n",
        "print(k)\n",
        "print(l)\n"
      ],
      "execution_count": 0,
      "outputs": [
        {
          "output_type": "stream",
          "text": [
            "22557\n",
            "27\n"
          ],
          "name": "stdout"
        }
      ]
    },
    {
      "cell_type": "code",
      "metadata": {
        "id": "EvKLgzdEVu8Q",
        "colab_type": "code",
        "outputId": "0868788d-4ddf-485b-e228-785ef8ea9cf2",
        "colab": {
          "base_uri": "https://localhost:8080/",
          "height": 51
        }
      },
      "source": [
        "wrong=[]\n",
        "for data in ind:\n",
        "  pred_cnn_prob[data].sort()\n",
        "  wrong.append(abs(pred_cnn_prob[data][1]-pred_cnn_prob[data][0]))\n",
        "l=0\n",
        "for data in wrong:\n",
        "  if data<0.96:\n",
        "    #print(data)\n",
        "    l+=1\n",
        "print(l)\n",
        "print(len(wrong))"
      ],
      "execution_count": 0,
      "outputs": [
        {
          "output_type": "stream",
          "text": [
            "11\n",
            "18\n"
          ],
          "name": "stdout"
        }
      ]
    },
    {
      "cell_type": "code",
      "metadata": {
        "id": "4lQlqJFsV0r9",
        "colab_type": "code",
        "outputId": "4cb815bd-5870-47b0-e011-0bd2d1f64f28",
        "colab": {
          "base_uri": "https://localhost:8080/",
          "height": 34
        }
      },
      "source": [
        "error_index_nn=[]\n",
        "error_index_nn_X=[]\n",
        "error_index_nn_Y=[]\n",
        "for i in range(pred_cnn_prob.shape[0]):\n",
        "  pred_cnn_prob[i].sort()\n",
        "  if abs(pred_cnn_prob[i][1]-pred_cnn_prob[i][0])<0.96:\n",
        "    error_index_nn.append(i)\n",
        "    error_index_nn_X.append(X_test[i])\n",
        "    error_index_nn_Y.append(y_test[i])\n",
        "print(len(error_index_nn))\n",
        "#print(error_index_nn_X)"
      ],
      "execution_count": 0,
      "outputs": [
        {
          "output_type": "stream",
          "text": [
            "38\n"
          ],
          "name": "stdout"
        }
      ]
    },
    {
      "cell_type": "code",
      "metadata": {
        "id": "DDrme4SHV-IM",
        "colab_type": "code",
        "outputId": "c766b81d-21e1-4b8d-c4fe-42be62728b82",
        "colab": {
          "base_uri": "https://localhost:8080/",
          "height": 238
        }
      },
      "source": [
        "error_index_nn_X1 = np.array(error_index_nn_X)\n",
        "print(error_index_nn_X1)"
      ],
      "execution_count": 0,
      "outputs": [
        {
          "output_type": "stream",
          "text": [
            "[[-0.03562279 -0.27513139 -0.15076789 ... -0.23616799 -0.28377233\n",
            "  -0.48214009]\n",
            " [-0.44125973 -0.51722243 -0.15076789 ... -0.23616799 -0.28377233\n",
            "  -0.48214009]\n",
            " [-0.42285395 -0.51925774 -0.31992795 ... -0.23616799 -0.28377233\n",
            "  -0.48214009]\n",
            " ...\n",
            " [-0.42285395 -0.51925771 -0.31992795 ... -0.23616799 -0.28377233\n",
            "  -0.48214009]\n",
            " [ 1.73341061 -0.51925796 -0.23534792 ... -0.23616799 -0.28377233\n",
            "  -0.48214009]\n",
            " [-0.42285395 -0.51925729 -0.31992795 ... -0.23616799 -0.28377233\n",
            "  -0.48214009]]\n"
          ],
          "name": "stdout"
        }
      ]
    },
    {
      "cell_type": "code",
      "metadata": {
        "id": "iZ1arwrYWBBj",
        "colab_type": "code",
        "outputId": "316af80c-39b0-47ee-99e0-41d0277bcd71",
        "colab": {
          "base_uri": "https://localhost:8080/",
          "height": 68
        }
      },
      "source": [
        "from sklearn.neighbors import KNeighborsClassifier\n",
        "\n",
        "from sklearn.externals import joblib\n",
        "neigh = KNeighborsClassifier(n_neighbors=4,weights='uniform')\n",
        "neigh.fit(X_train,y_train)\n"
      ],
      "execution_count": 0,
      "outputs": [
        {
          "output_type": "execute_result",
          "data": {
            "text/plain": [
              "KNeighborsClassifier(algorithm='auto', leaf_size=30, metric='minkowski',\n",
              "                     metric_params=None, n_jobs=None, n_neighbors=4, p=2,\n",
              "                     weights='uniform')"
            ]
          },
          "metadata": {
            "tags": []
          },
          "execution_count": 122
        }
      ]
    },
    {
      "cell_type": "code",
      "metadata": {
        "id": "OA3eFmOX-31R",
        "colab_type": "code",
        "outputId": "3bc37c37-6ac7-4331-c989-b0beea9c94b6",
        "colab": {
          "base_uri": "https://localhost:8080/",
          "height": 34
        }
      },
      "source": [
        "filename = 'drive/My Drive/BE FINAL/cic_final-code-results/knn_model.sav'\n",
        "joblib.dump(neigh, filename)"
      ],
      "execution_count": 0,
      "outputs": [
        {
          "output_type": "execute_result",
          "data": {
            "text/plain": [
              "['drive/My Drive/BE FINAL/cic_final-code-results/knn_model.sav']"
            ]
          },
          "metadata": {
            "tags": []
          },
          "execution_count": 123
        }
      ]
    },
    {
      "cell_type": "code",
      "metadata": {
        "id": "ZZp7_mEv78A3",
        "colab_type": "code",
        "outputId": "a3ae91c2-cfd2-481d-cfc8-9c8486a1d86b",
        "colab": {
          "base_uri": "https://localhost:8080/",
          "height": 663
        }
      },
      "source": [
        "pred_knn_prob = neigh.predict_proba(error_index_nn_X1)\n",
        "pred_cnn1 = model.predict_classes(X_test_nn)\n",
        "\n",
        "print(pred_knn_prob)"
      ],
      "execution_count": 0,
      "outputs": [
        {
          "output_type": "stream",
          "text": [
            "[[1.   0.  ]\n",
            " [0.   1.  ]\n",
            " [1.   0.  ]\n",
            " [1.   0.  ]\n",
            " [0.   1.  ]\n",
            " [0.   1.  ]\n",
            " [1.   0.  ]\n",
            " [0.   1.  ]\n",
            " [1.   0.  ]\n",
            " [1.   0.  ]\n",
            " [0.   1.  ]\n",
            " [0.   1.  ]\n",
            " [0.5  0.5 ]\n",
            " [0.   1.  ]\n",
            " [1.   0.  ]\n",
            " [0.   1.  ]\n",
            " [1.   0.  ]\n",
            " [1.   0.  ]\n",
            " [1.   0.  ]\n",
            " [1.   0.  ]\n",
            " [1.   0.  ]\n",
            " [0.   1.  ]\n",
            " [1.   0.  ]\n",
            " [0.   1.  ]\n",
            " [1.   0.  ]\n",
            " [0.   1.  ]\n",
            " [1.   0.  ]\n",
            " [1.   0.  ]\n",
            " [0.25 0.75]\n",
            " [1.   0.  ]\n",
            " [0.   1.  ]\n",
            " [1.   0.  ]\n",
            " [1.   0.  ]\n",
            " [1.   0.  ]\n",
            " [0.   1.  ]\n",
            " [1.   0.  ]\n",
            " [1.   0.  ]\n",
            " [1.   0.  ]]\n"
          ],
          "name": "stdout"
        }
      ]
    },
    {
      "cell_type": "code",
      "metadata": {
        "id": "k_BcATc_ck4Z",
        "colab_type": "code",
        "colab": {}
      },
      "source": [
        "pred_knn = neigh.predict(error_index_nn_X1) # test the output "
      ],
      "execution_count": 0,
      "outputs": []
    },
    {
      "cell_type": "code",
      "metadata": {
        "id": "iVFaCupBWDo7",
        "colab_type": "code",
        "outputId": "7b04af8c-3906-4446-9faf-387b7bdeceef",
        "colab": {
          "base_uri": "https://localhost:8080/",
          "height": 34
        }
      },
      "source": [
        "print('Accuracy Score :',accuracy_score(error_index_nn_Y, pred_knn))\n"
      ],
      "execution_count": 0,
      "outputs": [
        {
          "output_type": "stream",
          "text": [
            "Accuracy Score : 0.9473684210526315\n"
          ],
          "name": "stdout"
        }
      ]
    },
    {
      "cell_type": "code",
      "metadata": {
        "id": "7HpuT9nj_MvT",
        "colab_type": "code",
        "colab": {}
      },
      "source": [
        "i=0\n",
        "for data in error_index_nn:\n",
        "\n",
        "  pred_knn_prob[i].sort()\n",
        "  if abs(pred_knn_prob[i][1]-pred_knn_prob[i][0])>0.00:\n",
        "    pred_cnn1[data]=pred_knn[i]\n",
        "  i+=1\n"
      ],
      "execution_count": 0,
      "outputs": []
    },
    {
      "cell_type": "code",
      "metadata": {
        "id": "f-dU9iIaWH1N",
        "colab_type": "code",
        "colab": {}
      },
      "source": [
        "i=0\n",
        "for data in error_index_nn:\n",
        "    pred_cnn1[data]=pred_knn[i]\n",
        "    i+=1"
      ],
      "execution_count": 0,
      "outputs": []
    },
    {
      "cell_type": "code",
      "metadata": {
        "id": "k-K9I8ChWKYw",
        "colab_type": "code",
        "outputId": "7e1bdcca-0419-47ac-97bc-35214f96510a",
        "colab": {
          "base_uri": "https://localhost:8080/",
          "height": 51
        }
      },
      "source": [
        "print(Counter(y_test))#Counter({1: 12917, 0: 9658})\n",
        "#Counter({1: 12914, 0: 9661})\n",
        "print(Counter(pred_cnn1))"
      ],
      "execution_count": 0,
      "outputs": [
        {
          "output_type": "stream",
          "text": [
            "Counter({1: 12917, 0: 9658})\n",
            "Counter({1: 12922, 0: 9653})\n"
          ],
          "name": "stdout"
        }
      ]
    },
    {
      "cell_type": "code",
      "metadata": {
        "id": "gMG--YG5WMv7",
        "colab_type": "code",
        "outputId": "94447253-208a-4803-bec1-5a33bb88f774",
        "colab": {
          "base_uri": "https://localhost:8080/",
          "height": 255
        }
      },
      "source": [
        "# Python script for confusion matrix creation. \n",
        "from sklearn.metrics import confusion_matrix \n",
        "from sklearn.metrics import accuracy_score \n",
        "from sklearn.metrics import classification_report \n",
        " \n",
        "results = confusion_matrix(y_test, pred_cnn1) \n",
        "print('Confusion Matrix :')\n",
        "print(results) \n",
        "print('Accuracy Score :',accuracy_score(y_test, pred_cnn1))#this is correct always!!!\n",
        "print('Report : ')\n",
        "print(classification_report(y_test, pred_cnn1))\n",
        "#   0.9996013289036545\n",
        "#"
      ],
      "execution_count": 0,
      "outputs": [
        {
          "output_type": "stream",
          "text": [
            "Confusion Matrix :\n",
            "[[ 9654     4]\n",
            " [    5 12912]]\n",
            "Accuracy Score : 0.9996013289036545\n",
            "Report : \n",
            "              precision    recall  f1-score   support\n",
            "\n",
            "           0       1.00      1.00      1.00      9658\n",
            "           1       1.00      1.00      1.00     12917\n",
            "\n",
            "    accuracy                           1.00     22575\n",
            "   macro avg       1.00      1.00      1.00     22575\n",
            "weighted avg       1.00      1.00      1.00     22575\n",
            "\n"
          ],
          "name": "stdout"
        }
      ]
    },
    {
      "cell_type": "code",
      "metadata": {
        "id": "nNVmTCQTXCaI",
        "colab_type": "code",
        "outputId": "fda75881-7621-4a01-af5f-90e0073b0af3",
        "colab": {
          "base_uri": "https://localhost:8080/",
          "height": 34
        }
      },
      "source": [
        "ind1=[]\n",
        "for i in range(y_test.shape[0]):\n",
        "  if y_test[i]!=pred_cnn1[i]:\n",
        "    ind1.append(i)\n",
        "print(ind1)"
      ],
      "execution_count": 0,
      "outputs": [
        {
          "output_type": "stream",
          "text": [
            "[1344, 8444, 8987, 9599, 10967, 12497, 18355, 20989, 22234]\n"
          ],
          "name": "stdout"
        }
      ]
    }
  ]
}